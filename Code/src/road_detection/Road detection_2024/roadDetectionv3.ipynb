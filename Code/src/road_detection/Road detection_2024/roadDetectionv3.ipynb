{
 "cells": [
  {
   "cell_type": "code",
   "execution_count": 25,
   "metadata": {},
   "outputs": [],
   "source": [
    "import os\n",
    "import sys\n",
    "\n",
    "# Get the current working directory\n",
    "current_dir = os.getcwd()\n",
    "\n",
    "# Get the parent directory of `maps` (which is `src`)\n",
    "parent_dir = os.path.abspath(os.path.join(current_dir, os.pardir))\n",
    "\n",
    "# Add `src` to the module search path\n",
    "if parent_dir not in sys.path:\n",
    "    sys.path.append(parent_dir)"
   ]
  },
  {
   "cell_type": "code",
   "execution_count": 26,
   "metadata": {},
   "outputs": [],
   "source": [
    "import pandas as pd\n",
    "import numpy as np\n",
    "import folium.features\n",
    "from sklearn.cluster import DBSCAN\n",
    "from sklearn.cluster import HDBSCAN\n",
    "from sklearn.cluster import OPTICS\n",
    "from sklearn.linear_model import LinearRegression \n",
    "from sklearn.preprocessing import PolynomialFeatures\n",
    "from pyproj import Transformer\n",
    "import seaborn as sns\n",
    "import networkx as nx\n",
    "from scipy.spatial import Delaunay\n",
    "from itertools import combinations\n",
    "import matplotlib.pyplot as plt\n",
    "from sklearn.neighbors import NearestNeighbors\n",
    "import pyproj\n",
    "\n",
    "\n",
    "from python_scripts.road_detection.road_utils import *\n",
    "from python_scripts.miscellaneaous.data_processing import extract_data\n",
    "from python_scripts.graphs.graphs_creation import delaunay_graph\n",
    "from python_scripts.city.city_utils import plotMapWithColors, mean_distance_choice, mean_distance_to_NN\n",
    "from python_scripts.ihm.maps.mapUtils import *\n",
    "from python_scripts.neighbours_criteria.enhanced_criteria import km_distance\n",
    "from python_scripts.neighbours_criteria.simple_criteria import distance_criterion, angle_criterion\n"
   ]
  },
  {
   "cell_type": "code",
   "execution_count": 27,
   "metadata": {},
   "outputs": [
    {
     "name": "stderr",
     "output_type": "stream",
     "text": [
      "/tmp/ipykernel_7533/1038301328.py:1: DtypeWarning: Columns (4) have mixed types. Specify dtype option on import or set low_memory=False.\n",
      "  df = pd.read_csv(\"../../database/data.csv\", sep=\";\", decimal=',')\n"
     ]
    }
   ],
   "source": [
    "df = pd.read_csv(\"../../database/data.csv\", sep=\";\", decimal=',')"
   ]
  },
  {
   "cell_type": "code",
   "execution_count": 28,
   "metadata": {},
   "outputs": [],
   "source": [
    "df_extracted = extract_data(df, provider='Orange')#, techno='4g')#, region='Normandie') #Occitanie, Île-de-France\n",
    "# G, pos = delaunay_graph(df_extracted)"
   ]
  },
  {
   "cell_type": "code",
   "execution_count": 29,
   "metadata": {},
   "outputs": [],
   "source": [
    "cityLabels = pd.Series(DBSCAN(eps=1000, min_samples=11).fit(df_extracted[['x','y']]).labels_, index = df_extracted.index)\n",
    "cityLabels = cityLabels.drop(cityLabels.loc[cityLabels==-1].index)\n",
    "clusters = cityLabels.unique()\n",
    "num_clusters = len(clusters)"
   ]
  },
  {
   "cell_type": "code",
   "execution_count": 30,
   "metadata": {},
   "outputs": [],
   "source": [
    "cityBsStationCount = cityLabels.value_counts()"
   ]
  },
  {
   "cell_type": "code",
   "execution_count": 31,
   "metadata": {},
   "outputs": [],
   "source": [
    "def getCityCenters(df_extracted, clusters, cityBsStationCount):\n",
    "    res = {cityLabel : (0,0) for cityLabel in clusters}\n",
    "    for bs_id, x, y in df_extracted[['x', 'y']].loc[cityLabels.index].itertuples():\n",
    "        coords = res.get(cityLabels[bs_id])\n",
    "        res[cityLabels[bs_id]] = (x + coords[0], y + coords[1])\n",
    "\n",
    "    for cluster in clusters:\n",
    "        res[cluster] = res.get(cluster) / cityBsStationCount[cluster]\n",
    "    return res"
   ]
  },
  {
   "cell_type": "code",
   "execution_count": 32,
   "metadata": {},
   "outputs": [],
   "source": [
    "# cityCenters = getCityCenters(df_extracted, clusters, cityStationsLabels, cityBsStationCount)"
   ]
  },
  {
   "cell_type": "code",
   "execution_count": 33,
   "metadata": {},
   "outputs": [],
   "source": [
    "# array1 = np.array(list(cityCenters.values())).reshape(-1,2)\n",
    "# array2 = np.array(df_extracted[['x', 'y']].values)\n",
    "\n",
    "# # Initialize the NearestNeighbors model and fit it to list2\n",
    "# nbrs = NearestNeighbors(n_neighbors=1, algorithm='auto').fit(array2)\n",
    "\n",
    "# # Find the nearest neighbors for each point in list1\n",
    "# distances, indices = nbrs.kneighbors(array1)\n",
    "\n",
    "# # Compute cities names\n",
    "# cityNames = {cityId : df_extracted['nom_com'].loc[df_extracted.index[indice][0]] for (cityId, indice) in zip(cityCenters.keys(), indices)}\n",
    "cityNames = {cityId : df_extracted['nom_com'].loc[cityLabels.loc[cityLabels==cityId].index].value_counts().index[0] for cityId in clusters}\n",
    "\n",
    "\n",
    "# Merge clusters that have the same names\n",
    "for cityName in np.sort(np.unique(list(cityNames.values()))):\n",
    "    clustersWithSameName = [key for i, key in enumerate(list(cityNames.keys())) if list(cityNames.values())[i] == cityName]\n",
    "    if(len(clustersWithSameName) > 1):\n",
    "        clusterToKeep = np.min(clustersWithSameName)\n",
    "        cityLabels = cityLabels.apply(lambda v: clusterToKeep if v in clustersWithSameName else v)\n",
    "        for i in clustersWithSameName :\n",
    "            if i != clusterToKeep:\n",
    "                cityNames.pop(i)\n",
    "clusters = list(cityLabels.unique())\n",
    "num_clusters = len(clusters)\n",
    "cityBsStationCount = cityLabels.value_counts()\n",
    "cityCenters = getCityCenters(df_extracted, clusters, cityBsStationCount)"
   ]
  },
  {
   "cell_type": "code",
   "execution_count": 35,
   "metadata": {},
   "outputs": [
    {
     "name": "stderr",
     "output_type": "stream",
     "text": [
      "/tmp/ipykernel_7533/2680424673.py:1: DtypeWarning: Columns (1,12,14,16,23,24) have mixed types. Specify dtype option on import or set low_memory=False.\n",
      "  cities_infos = pd.read_csv(\"../../database/data_population.csv\", sep=\",\", decimal='.')\n"
     ]
    }
   ],
   "source": [
    "cities_infos = pd.read_csv(\"../../database/data_population.csv\", sep=\",\", decimal='.')\n",
    "\n",
    "populations = {}\n",
    "\n",
    "for cluster in clusters:\n",
    "    cityName = cityNames.get(cluster)\n",
    "    city_row = cities_infos[cities_infos['nom_standard']==cityName] # Brendan : 'commune'\n",
    "    population = city_row['population'].values[0]  # Brendan : 'PMUN'\n",
    "    populations[cluster]=population"
   ]
  },
  {
   "cell_type": "code",
   "execution_count": 36,
   "metadata": {},
   "outputs": [],
   "source": [
    "def rgb_to_hex(rgb):\n",
    "        return '#{:02x}{:02x}{:02x}'.format(int(rgb[0]*255), int(rgb[1]*255), int(rgb[2]*255))\n",
    "\n",
    "def labelToColor(clustId, clusters, palette):   \n",
    "    if (clustId == -1):\n",
    "        return 'gray'\n",
    "    else:\n",
    "        return rgb_to_hex(palette[list(clusters).index(clustId)- (1 if -1 in clusters else 0)])"
   ]
  },
  {
   "cell_type": "code",
   "execution_count": 37,
   "metadata": {},
   "outputs": [],
   "source": [
    "palette = sns.color_palette(\"hsv\", num_clusters)\n",
    "colors = cityLabels.apply(lambda clustId : labelToColor(clustId, clusters, palette))"
   ]
  },
  {
   "cell_type": "code",
   "execution_count": 38,
   "metadata": {},
   "outputs": [],
   "source": [
    "map = folium.Map(location=list(np.mean(df_extracted[['latitude','longitude']].loc[cityLabels.index], axis=0)), zoom_start=7, tiles=\"Cartodb Positron\")\n",
    "citiesLayer = folium.FeatureGroup(f\"Cities\").add_to(map)\n",
    "cityCenterLayer = folium.FeatureGroup(f\"Cities centers\").add_to(map)\n",
    "cityNameLayer = folium.FeatureGroup(f\"Cities names\").add_to(map)\n",
    "\n",
    "for bs_id, x, y in df_extracted[['latitude', 'longitude']].loc[cityLabels.index].itertuples():\n",
    "    color = colors[bs_id]\n",
    "    dot = folium.CircleMarker(location=[x, y], color=color, radius=1, popup=cityNames.get(cityLabels.get(bs_id)))\n",
    "    citiesLayer.add_child(dot)\n",
    "\n",
    "\n",
    "for cluster in clusters:\n",
    "    centerXY = cityCenters[cluster]\n",
    "\n",
    "    lambert93 = pyproj.CRS(\"EPSG:2154\")  # Lambert 93\n",
    "    wgs84 = pyproj.CRS(\"EPSG:4326\")       # WGS84\n",
    "    transformer = pyproj.Transformer.from_crs(lambert93, wgs84, always_xy=True)\n",
    "\n",
    "    centerLl = transformer.transform(centerXY[0], centerXY[1])[::-1]\n",
    "\n",
    "    dot = folium.CircleMarker(location=centerLl, color='black', fill_opacity = 1, fill=True, radius=4, popup=cityNames.get(cluster))\n",
    "    cityCenterLayer.add_child(dot)\n",
    "\n",
    "\n",
    "    offset = np.array([0, 0.08])\n",
    "    folium.map.Marker(centerLl + offset, icon=folium.features.DivIcon(icon_size=(250,36), icon_anchor=(0,0),html=f'<div style=\"font-size: 12pt\">{cityNames.get(cluster)}</div>')\n",
    "    ).add_to(cityNameLayer)\n",
    "\n",
    "folium.LayerControl().add_to(map)\n",
    "\n",
    "map.save(f\"../../out/maps/DetectCitiesWithName.html\")"
   ]
  },
  {
   "cell_type": "code",
   "execution_count": 39,
   "metadata": {},
   "outputs": [
    {
     "data": {
      "image/png": "[encoded data removed]",
      "text/plain": [
       "<Figure size 640x480 with 1 Axes>"
      ]
     },
     "metadata": {},
     "output_type": "display_data"
    }
   ],
   "source": [
    "seuil = 0.08\n",
    "\n",
    "G = nx.Graph()\n",
    "\n",
    "for cluster in clusters:\n",
    "    G.add_node(cluster, pos=cityCenters.get(cluster))\n",
    "\n",
    "pos = nx.get_node_attributes(G, 'pos')  \n",
    "\n",
    "maxPop = np.max(list(populations.values()))\n",
    "\n",
    "distances = {}\n",
    "for node1 in clusters:\n",
    "    for node2 in clusters:\n",
    "        if(node1 > node2):\n",
    "            loc1 = np.array(cityCenters.get(node1))\n",
    "            loc2 = np.array(cityCenters.get(node2))\n",
    "            dist = np.linalg.norm(loc2-loc1)/1000\n",
    "            distances[(node1, node2)] = dist\n",
    "\n",
    "maxDist = np.max(list(distances.values()))\n",
    "\n",
    "for node1, node2 in distances.keys():\n",
    "    dist = distances[(node1, node2)]\n",
    "\n",
    "    popupation_score = np.min([populations.get(node1), populations.get(node2)])*10/maxPop\n",
    "    distance_score = dist/maxDist*10\n",
    "\n",
    "    weight = (popupation_score**1)/(distance_score**2)\n",
    "    if(weight>=seuil):\n",
    "        G.add_edge(node1, node2, weight=weight)\n",
    "\n",
    "node_sizes = [populations.get(node)/5000 for node in G.nodes]   \n",
    "nx.draw(G, pos, node_size = node_sizes)\n",
    "# plt.savefig(\"../../../weekly_slides/images/road_detection/edges_weight_angle_filtration.png\")"
   ]
  },
  {
   "cell_type": "code",
   "execution_count": 40,
   "metadata": {},
   "outputs": [
    {
     "name": "stdout",
     "output_type": "stream",
     "text": [
      "1.3349482712374826e-05\n"
     ]
    }
   ],
   "source": [
    "node1 = list(cityNames.keys())[list(cityNames.values()).index('Paris')]\n",
    "node2 = list(cityNames.keys())[list(cityNames.values()).index('Bordeaux')]\n",
    "\n",
    "dist = distances[(node1, node2)]\n",
    "weight = ((np.min([populations.get(node1), populations.get(node2)])/maxPop)**1.5)/(dist**1.3)\n",
    "\n",
    "print(weight)"
   ]
  },
  {
   "cell_type": "code",
   "execution_count": 41,
   "metadata": {},
   "outputs": [
    {
     "data": {
      "text/plain": [
       "2"
      ]
     },
     "execution_count": 41,
     "metadata": {},
     "output_type": "execute_result"
    }
   ],
   "source": [
    "list(cityNames.values()).index('Toulouse')"
   ]
  },
  {
   "cell_type": "code",
   "execution_count": 42,
   "metadata": {},
   "outputs": [
    {
     "data": {
      "text/plain": [
       "np.int64(128)"
      ]
     },
     "execution_count": 42,
     "metadata": {},
     "output_type": "execute_result"
    }
   ],
   "source": [
    "cityBsStationCount.get(2)"
   ]
  },
  {
   "cell_type": "code",
   "execution_count": null,
   "metadata": {},
   "outputs": [],
   "source": []
  }
 ],
 "metadata": {
  "kernelspec": {
   "display_name": "stage_CTU",
   "language": "python",
   "name": "stage_ctu"
  },
  "language_info": {
   "codemirror_mode": {
    "name": "ipython",
    "version": 3
   },
   "file_extension": ".py",
   "mimetype": "text/x-python",
   "name": "python",
   "nbconvert_exporter": "python",
   "pygments_lexer": "ipython3",
   "version": "3.12.3"
  }
 },
 "nbformat": 4,
 "nbformat_minor": 2
}
